{
 "cells": [
  {
   "cell_type": "code",
   "execution_count": 5,
   "id": "fbbdb2f1-4709-4134-b070-0ca7f4cbc5f9",
   "metadata": {},
   "outputs": [],
   "source": [
    "import sqlalchemy as db"
   ]
  },
  {
   "cell_type": "code",
   "execution_count": 6,
   "id": "b6b98173-cf1b-454b-84aa-0557c739fb07",
   "metadata": {},
   "outputs": [],
   "source": [
    "conn = engine.connect()"
   ]
  },
  {
   "cell_type": "code",
   "execution_count": 11,
   "id": "71100ac7-e5d0-4e02-aa5a-70708443d207",
   "metadata": {},
   "outputs": [
    {
     "data": {
      "text/plain": [
       "MetaData()"
      ]
     },
     "execution_count": 11,
     "metadata": {},
     "output_type": "execute_result"
    }
   ],
   "source": [
    "metadata = db.MetaData()\n",
    "metadata"
   ]
  },
  {
   "cell_type": "code",
   "execution_count": 15,
   "id": "af9a0e25-b726-493b-8874-aa92eafc870a",
   "metadata": {},
   "outputs": [
    {
     "data": {
      "text/plain": [
       "Table('weightdate_table', MetaData(), schema=None)"
      ]
     },
     "execution_count": 15,
     "metadata": {},
     "output_type": "execute_result"
    }
   ],
   "source": [
    "division= db.Table('weightdate_table', metadata)\n",
    "division"
   ]
  },
  {
   "cell_type": "code",
   "execution_count": null,
   "id": "af16f82e-59ba-43ee-9281-8eee14eaa04e",
   "metadata": {},
   "outputs": [],
   "source": []
  }
 ],
 "metadata": {
  "kernelspec": {
   "display_name": "Python 3 (ipykernel)",
   "language": "python",
   "name": "python3"
  },
  "language_info": {
   "codemirror_mode": {
    "name": "ipython",
    "version": 3
   },
   "file_extension": ".py",
   "mimetype": "text/x-python",
   "name": "python",
   "nbconvert_exporter": "python",
   "pygments_lexer": "ipython3",
   "version": "3.12.1"
  }
 },
 "nbformat": 4,
 "nbformat_minor": 5
}
