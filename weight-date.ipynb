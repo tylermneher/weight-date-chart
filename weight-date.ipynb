{
 "cells": [
  {
   "cell_type": "code",
   "execution_count": 1,
   "id": "76a58bb9",
   "metadata": {},
   "outputs": [],
   "source": [
    "# imports to use\n",
    "\n",
    "import pandas as pd\n",
    "import plotly as pt\n",
    "import numpy as np\n",
    "import plotly.express as px"
   ]
  },
  {
   "cell_type": "code",
   "execution_count": 2,
   "id": "5274adbb",
   "metadata": {},
   "outputs": [],
   "source": [
    "# extract weights and dates from records and populate list of lists\n",
    "\n",
    "weightdate = [\n",
    "    [\"taryn_text_records\", \"2019-08-31.pdf\", 296.6, \"2019-08-31\"],\n",
    "    [\"taryn_text_records\", \"2018-09-14.pdf\", 322.7, \"2018-09-14\"],\n",
    "    [\"taryn_text_records\", \"2018-09-07.pdf\", 320.6, \"2018-09-07\"],\n",
    "    [\"taryn_text_records\", \"2018-08-17.pdf\", 325.4, \"2018-08-17\"],\n",
    "    [\"taryn_text_records\", \"2018-08-10.pdf\", 318.0, \"2018-08-10\"],\n",
    "    [\"taryn_text_records\", \"2018-08-03.pdf\", 317.3, \"2018-08-03\"],\n",
    "    [\"taryn_text_records\", \"2018-07-27.pdf\", 322.0, \"2018-07-27\"],\n",
    "    [\"taryn_text_records\", \"2018-06-15.pdf\", 315.2, \"2018-06-15\"],\n",
    "    [\"taryn_text_records\", \"2018-06-08.pdf\", 317.5, \"2018-06-08\"],\n",
    "    [\"taryn_text_records\", \"2018-06-01.pdf\", 319.3, \"2018-06-01\"],\n",
    "    [\"taryn_text_records\", \"2018-05-25.pdf\", 318.0, \"2018-05-25\"],\n",
    "    [\"taryn_text_records\", \"2018-08-30.pdf\", 321.3, \"2018-08-30\"],\n",
    "    [\"pahuja_records\", \"20230413-pahuja-records_weightChart.pdf\", 337.8, \"2019-02-20\"],\n",
    "    [\"pahuja_records\", \"20230413-pahuja-records_weightChart.pdf\", 343.8, \"2019-03-06\"],\n",
    "    [\"pahuja_records\", \"20230413-pahuja-records_weightChart.pdf\", 353.6, \"2019-04-29\"],\n",
    "    [\"pahuja_records\", \"20230413-pahuja-records_weightChart.pdf\", 355.2, \"2019-05-22\"],\n",
    "    [\"pahuja_records\", \"20230413-pahuja-records_weightChart.pdf\", 357.7, \"2019-07-01\"],\n",
    "    [\"pahuja_records\", \"20230413-pahuja-records_weightChart.pdf\", 345.4, \"2019-07-10\"],\n",
    "    [\"pahuja_records\", \"20230413-pahuja-records_weightChart.pdf\", 354.0, \"2019-07-24\"],\n",
    "    [\"pahuja_records\", \"20230413-pahuja-records_weightChart.pdf\", 322.7, \"2019-08-07\"],\n",
    "    [\"pahuja_records\", \"20230413-pahuja-records_weightChart.pdf\", 304.9, \"2019-08-28\"],\n",
    "    [\"pahuja_records\", \"20230413-pahuja-records_weightChart.pdf\", 263.9, \"2019-11-27\"],\n",
    "    [\"pahuja_records\", \"20230413-pahuja-records_weightChart.pdf\", 232.8, \"2020-10-14\"],\n",
    "]\n",
    "\n",
    "cols = [\"data_src\", \"data_src_filename\", \"weight_in_lbs\", \"date_measured\"]\n"
   ]
  },
  {
   "cell_type": "code",
   "execution_count": 3,
   "id": "91c2b84d",
   "metadata": {},
   "outputs": [
    {
     "data": {
      "text/html": [
       "<div>\n",
       "<style scoped>\n",
       "    .dataframe tbody tr th:only-of-type {\n",
       "        vertical-align: middle;\n",
       "    }\n",
       "\n",
       "    .dataframe tbody tr th {\n",
       "        vertical-align: top;\n",
       "    }\n",
       "\n",
       "    .dataframe thead th {\n",
       "        text-align: right;\n",
       "    }\n",
       "</style>\n",
       "<table border=\"1\" class=\"dataframe\">\n",
       "  <thead>\n",
       "    <tr style=\"text-align: right;\">\n",
       "      <th></th>\n",
       "      <th>data_src</th>\n",
       "      <th>data_src_filename</th>\n",
       "      <th>weight_in_lbs</th>\n",
       "      <th>date_measured</th>\n",
       "    </tr>\n",
       "  </thead>\n",
       "  <tbody>\n",
       "    <tr>\n",
       "      <th>0</th>\n",
       "      <td>taryn_text_records</td>\n",
       "      <td>2019-08-31.pdf</td>\n",
       "      <td>296.6</td>\n",
       "      <td>2019-08-31</td>\n",
       "    </tr>\n",
       "    <tr>\n",
       "      <th>1</th>\n",
       "      <td>taryn_text_records</td>\n",
       "      <td>2018-09-14.pdf</td>\n",
       "      <td>322.7</td>\n",
       "      <td>2018-09-14</td>\n",
       "    </tr>\n",
       "    <tr>\n",
       "      <th>2</th>\n",
       "      <td>taryn_text_records</td>\n",
       "      <td>2018-09-07.pdf</td>\n",
       "      <td>320.6</td>\n",
       "      <td>2018-09-07</td>\n",
       "    </tr>\n",
       "    <tr>\n",
       "      <th>3</th>\n",
       "      <td>taryn_text_records</td>\n",
       "      <td>2018-08-17.pdf</td>\n",
       "      <td>325.4</td>\n",
       "      <td>2018-08-17</td>\n",
       "    </tr>\n",
       "    <tr>\n",
       "      <th>4</th>\n",
       "      <td>taryn_text_records</td>\n",
       "      <td>2018-08-10.pdf</td>\n",
       "      <td>318.0</td>\n",
       "      <td>2018-08-10</td>\n",
       "    </tr>\n",
       "    <tr>\n",
       "      <th>5</th>\n",
       "      <td>taryn_text_records</td>\n",
       "      <td>2018-08-03.pdf</td>\n",
       "      <td>317.3</td>\n",
       "      <td>2018-08-03</td>\n",
       "    </tr>\n",
       "    <tr>\n",
       "      <th>6</th>\n",
       "      <td>taryn_text_records</td>\n",
       "      <td>2018-07-27.pdf</td>\n",
       "      <td>322.0</td>\n",
       "      <td>2018-07-27</td>\n",
       "    </tr>\n",
       "    <tr>\n",
       "      <th>7</th>\n",
       "      <td>taryn_text_records</td>\n",
       "      <td>2018-06-15.pdf</td>\n",
       "      <td>315.2</td>\n",
       "      <td>2018-06-15</td>\n",
       "    </tr>\n",
       "    <tr>\n",
       "      <th>8</th>\n",
       "      <td>taryn_text_records</td>\n",
       "      <td>2018-06-08.pdf</td>\n",
       "      <td>317.5</td>\n",
       "      <td>2018-06-08</td>\n",
       "    </tr>\n",
       "    <tr>\n",
       "      <th>9</th>\n",
       "      <td>taryn_text_records</td>\n",
       "      <td>2018-06-01.pdf</td>\n",
       "      <td>319.3</td>\n",
       "      <td>2018-06-01</td>\n",
       "    </tr>\n",
       "    <tr>\n",
       "      <th>10</th>\n",
       "      <td>taryn_text_records</td>\n",
       "      <td>2018-05-25.pdf</td>\n",
       "      <td>318.0</td>\n",
       "      <td>2018-05-25</td>\n",
       "    </tr>\n",
       "    <tr>\n",
       "      <th>11</th>\n",
       "      <td>taryn_text_records</td>\n",
       "      <td>2018-08-30.pdf</td>\n",
       "      <td>321.3</td>\n",
       "      <td>2018-08-30</td>\n",
       "    </tr>\n",
       "    <tr>\n",
       "      <th>12</th>\n",
       "      <td>pahuja_records</td>\n",
       "      <td>20230413-pahuja-records_weightChart.pdf</td>\n",
       "      <td>337.8</td>\n",
       "      <td>2019-02-20</td>\n",
       "    </tr>\n",
       "    <tr>\n",
       "      <th>13</th>\n",
       "      <td>pahuja_records</td>\n",
       "      <td>20230413-pahuja-records_weightChart.pdf</td>\n",
       "      <td>343.8</td>\n",
       "      <td>2019-03-06</td>\n",
       "    </tr>\n",
       "    <tr>\n",
       "      <th>14</th>\n",
       "      <td>pahuja_records</td>\n",
       "      <td>20230413-pahuja-records_weightChart.pdf</td>\n",
       "      <td>353.6</td>\n",
       "      <td>2019-04-29</td>\n",
       "    </tr>\n",
       "    <tr>\n",
       "      <th>15</th>\n",
       "      <td>pahuja_records</td>\n",
       "      <td>20230413-pahuja-records_weightChart.pdf</td>\n",
       "      <td>355.2</td>\n",
       "      <td>2019-05-22</td>\n",
       "    </tr>\n",
       "    <tr>\n",
       "      <th>16</th>\n",
       "      <td>pahuja_records</td>\n",
       "      <td>20230413-pahuja-records_weightChart.pdf</td>\n",
       "      <td>357.7</td>\n",
       "      <td>2019-07-01</td>\n",
       "    </tr>\n",
       "    <tr>\n",
       "      <th>17</th>\n",
       "      <td>pahuja_records</td>\n",
       "      <td>20230413-pahuja-records_weightChart.pdf</td>\n",
       "      <td>345.4</td>\n",
       "      <td>2019-07-10</td>\n",
       "    </tr>\n",
       "    <tr>\n",
       "      <th>18</th>\n",
       "      <td>pahuja_records</td>\n",
       "      <td>20230413-pahuja-records_weightChart.pdf</td>\n",
       "      <td>354.0</td>\n",
       "      <td>2019-07-24</td>\n",
       "    </tr>\n",
       "    <tr>\n",
       "      <th>19</th>\n",
       "      <td>pahuja_records</td>\n",
       "      <td>20230413-pahuja-records_weightChart.pdf</td>\n",
       "      <td>322.7</td>\n",
       "      <td>2019-08-07</td>\n",
       "    </tr>\n",
       "    <tr>\n",
       "      <th>20</th>\n",
       "      <td>pahuja_records</td>\n",
       "      <td>20230413-pahuja-records_weightChart.pdf</td>\n",
       "      <td>304.9</td>\n",
       "      <td>2019-08-28</td>\n",
       "    </tr>\n",
       "    <tr>\n",
       "      <th>21</th>\n",
       "      <td>pahuja_records</td>\n",
       "      <td>20230413-pahuja-records_weightChart.pdf</td>\n",
       "      <td>263.9</td>\n",
       "      <td>2019-11-27</td>\n",
       "    </tr>\n",
       "    <tr>\n",
       "      <th>22</th>\n",
       "      <td>pahuja_records</td>\n",
       "      <td>20230413-pahuja-records_weightChart.pdf</td>\n",
       "      <td>232.8</td>\n",
       "      <td>2020-10-14</td>\n",
       "    </tr>\n",
       "  </tbody>\n",
       "</table>\n",
       "</div>"
      ],
      "text/plain": [
       "              data_src                        data_src_filename  \\\n",
       "0   taryn_text_records                           2019-08-31.pdf   \n",
       "1   taryn_text_records                           2018-09-14.pdf   \n",
       "2   taryn_text_records                           2018-09-07.pdf   \n",
       "3   taryn_text_records                           2018-08-17.pdf   \n",
       "4   taryn_text_records                           2018-08-10.pdf   \n",
       "5   taryn_text_records                           2018-08-03.pdf   \n",
       "6   taryn_text_records                           2018-07-27.pdf   \n",
       "7   taryn_text_records                           2018-06-15.pdf   \n",
       "8   taryn_text_records                           2018-06-08.pdf   \n",
       "9   taryn_text_records                           2018-06-01.pdf   \n",
       "10  taryn_text_records                           2018-05-25.pdf   \n",
       "11  taryn_text_records                           2018-08-30.pdf   \n",
       "12      pahuja_records  20230413-pahuja-records_weightChart.pdf   \n",
       "13      pahuja_records  20230413-pahuja-records_weightChart.pdf   \n",
       "14      pahuja_records  20230413-pahuja-records_weightChart.pdf   \n",
       "15      pahuja_records  20230413-pahuja-records_weightChart.pdf   \n",
       "16      pahuja_records  20230413-pahuja-records_weightChart.pdf   \n",
       "17      pahuja_records  20230413-pahuja-records_weightChart.pdf   \n",
       "18      pahuja_records  20230413-pahuja-records_weightChart.pdf   \n",
       "19      pahuja_records  20230413-pahuja-records_weightChart.pdf   \n",
       "20      pahuja_records  20230413-pahuja-records_weightChart.pdf   \n",
       "21      pahuja_records  20230413-pahuja-records_weightChart.pdf   \n",
       "22      pahuja_records  20230413-pahuja-records_weightChart.pdf   \n",
       "\n",
       "    weight_in_lbs date_measured  \n",
       "0           296.6    2019-08-31  \n",
       "1           322.7    2018-09-14  \n",
       "2           320.6    2018-09-07  \n",
       "3           325.4    2018-08-17  \n",
       "4           318.0    2018-08-10  \n",
       "5           317.3    2018-08-03  \n",
       "6           322.0    2018-07-27  \n",
       "7           315.2    2018-06-15  \n",
       "8           317.5    2018-06-08  \n",
       "9           319.3    2018-06-01  \n",
       "10          318.0    2018-05-25  \n",
       "11          321.3    2018-08-30  \n",
       "12          337.8    2019-02-20  \n",
       "13          343.8    2019-03-06  \n",
       "14          353.6    2019-04-29  \n",
       "15          355.2    2019-05-22  \n",
       "16          357.7    2019-07-01  \n",
       "17          345.4    2019-07-10  \n",
       "18          354.0    2019-07-24  \n",
       "19          322.7    2019-08-07  \n",
       "20          304.9    2019-08-28  \n",
       "21          263.9    2019-11-27  \n",
       "22          232.8    2020-10-14  "
      ]
     },
     "execution_count": 3,
     "metadata": {},
     "output_type": "execute_result"
    }
   ],
   "source": [
    "# create pandas dataframe from weightdate data and cols columns\n",
    "\n",
    "weightdate_df = pd.DataFrame(data=weightdate, columns=cols)\n",
    "weightdate_df"
   ]
  },
  {
   "cell_type": "code",
   "execution_count": 4,
   "id": "11049317",
   "metadata": {},
   "outputs": [
    {
     "data": {
      "text/plain": [
       "22   2020-10-14\n",
       "21   2019-11-27\n",
       "0    2019-08-31\n",
       "20   2019-08-28\n",
       "19   2019-08-07\n",
       "18   2019-07-24\n",
       "17   2019-07-10\n",
       "16   2019-07-01\n",
       "15   2019-05-22\n",
       "14   2019-04-29\n",
       "13   2019-03-06\n",
       "12   2019-02-20\n",
       "1    2018-09-14\n",
       "2    2018-09-07\n",
       "11   2018-08-30\n",
       "3    2018-08-17\n",
       "4    2018-08-10\n",
       "5    2018-08-03\n",
       "6    2018-07-27\n",
       "7    2018-06-15\n",
       "8    2018-06-08\n",
       "9    2018-06-01\n",
       "10   2018-05-25\n",
       "Name: date_measured, dtype: datetime64[ns]"
      ]
     },
     "execution_count": 4,
     "metadata": {},
     "output_type": "execute_result"
    }
   ],
   "source": [
    "# cast 'date_measured' data as datetime\n",
    "# sort dataframe in-place by 'date_measured'\n",
    "\n",
    "weightdate_df[\"date_measured\"] = pd.to_datetime(weightdate_df[\"date_measured\"])\n",
    "weightdate_df.sort_values(by=\"date_measured\", ascending=False, inplace=True)\n",
    "weightdate_df[\"date_measured\"]\n"
   ]
  },
  {
   "cell_type": "code",
   "execution_count": 5,
   "id": "7a572d07",
   "metadata": {},
   "outputs": [
    {
     "data": {
      "text/html": [
       "<div>\n",
       "<style scoped>\n",
       "    .dataframe tbody tr th:only-of-type {\n",
       "        vertical-align: middle;\n",
       "    }\n",
       "\n",
       "    .dataframe tbody tr th {\n",
       "        vertical-align: top;\n",
       "    }\n",
       "\n",
       "    .dataframe thead th {\n",
       "        text-align: right;\n",
       "    }\n",
       "</style>\n",
       "<table border=\"1\" class=\"dataframe\">\n",
       "  <thead>\n",
       "    <tr style=\"text-align: right;\">\n",
       "      <th></th>\n",
       "      <th>data_src</th>\n",
       "      <th>data_src_filename</th>\n",
       "      <th>weight_in_lbs</th>\n",
       "      <th>date_measured</th>\n",
       "      <th>year</th>\n",
       "      <th>month</th>\n",
       "      <th>day</th>\n",
       "    </tr>\n",
       "  </thead>\n",
       "  <tbody>\n",
       "    <tr>\n",
       "      <th>22</th>\n",
       "      <td>pahuja_records</td>\n",
       "      <td>20230413-pahuja-records_weightChart.pdf</td>\n",
       "      <td>232.8</td>\n",
       "      <td>2020-10-14</td>\n",
       "      <td>2020</td>\n",
       "      <td>10</td>\n",
       "      <td>14</td>\n",
       "    </tr>\n",
       "    <tr>\n",
       "      <th>21</th>\n",
       "      <td>pahuja_records</td>\n",
       "      <td>20230413-pahuja-records_weightChart.pdf</td>\n",
       "      <td>263.9</td>\n",
       "      <td>2019-11-27</td>\n",
       "      <td>2019</td>\n",
       "      <td>11</td>\n",
       "      <td>27</td>\n",
       "    </tr>\n",
       "    <tr>\n",
       "      <th>0</th>\n",
       "      <td>taryn_text_records</td>\n",
       "      <td>2019-08-31.pdf</td>\n",
       "      <td>296.6</td>\n",
       "      <td>2019-08-31</td>\n",
       "      <td>2019</td>\n",
       "      <td>8</td>\n",
       "      <td>31</td>\n",
       "    </tr>\n",
       "    <tr>\n",
       "      <th>20</th>\n",
       "      <td>pahuja_records</td>\n",
       "      <td>20230413-pahuja-records_weightChart.pdf</td>\n",
       "      <td>304.9</td>\n",
       "      <td>2019-08-28</td>\n",
       "      <td>2019</td>\n",
       "      <td>8</td>\n",
       "      <td>28</td>\n",
       "    </tr>\n",
       "    <tr>\n",
       "      <th>19</th>\n",
       "      <td>pahuja_records</td>\n",
       "      <td>20230413-pahuja-records_weightChart.pdf</td>\n",
       "      <td>322.7</td>\n",
       "      <td>2019-08-07</td>\n",
       "      <td>2019</td>\n",
       "      <td>8</td>\n",
       "      <td>7</td>\n",
       "    </tr>\n",
       "    <tr>\n",
       "      <th>18</th>\n",
       "      <td>pahuja_records</td>\n",
       "      <td>20230413-pahuja-records_weightChart.pdf</td>\n",
       "      <td>354.0</td>\n",
       "      <td>2019-07-24</td>\n",
       "      <td>2019</td>\n",
       "      <td>7</td>\n",
       "      <td>24</td>\n",
       "    </tr>\n",
       "    <tr>\n",
       "      <th>17</th>\n",
       "      <td>pahuja_records</td>\n",
       "      <td>20230413-pahuja-records_weightChart.pdf</td>\n",
       "      <td>345.4</td>\n",
       "      <td>2019-07-10</td>\n",
       "      <td>2019</td>\n",
       "      <td>7</td>\n",
       "      <td>10</td>\n",
       "    </tr>\n",
       "    <tr>\n",
       "      <th>16</th>\n",
       "      <td>pahuja_records</td>\n",
       "      <td>20230413-pahuja-records_weightChart.pdf</td>\n",
       "      <td>357.7</td>\n",
       "      <td>2019-07-01</td>\n",
       "      <td>2019</td>\n",
       "      <td>7</td>\n",
       "      <td>1</td>\n",
       "    </tr>\n",
       "    <tr>\n",
       "      <th>15</th>\n",
       "      <td>pahuja_records</td>\n",
       "      <td>20230413-pahuja-records_weightChart.pdf</td>\n",
       "      <td>355.2</td>\n",
       "      <td>2019-05-22</td>\n",
       "      <td>2019</td>\n",
       "      <td>5</td>\n",
       "      <td>22</td>\n",
       "    </tr>\n",
       "    <tr>\n",
       "      <th>14</th>\n",
       "      <td>pahuja_records</td>\n",
       "      <td>20230413-pahuja-records_weightChart.pdf</td>\n",
       "      <td>353.6</td>\n",
       "      <td>2019-04-29</td>\n",
       "      <td>2019</td>\n",
       "      <td>4</td>\n",
       "      <td>29</td>\n",
       "    </tr>\n",
       "    <tr>\n",
       "      <th>13</th>\n",
       "      <td>pahuja_records</td>\n",
       "      <td>20230413-pahuja-records_weightChart.pdf</td>\n",
       "      <td>343.8</td>\n",
       "      <td>2019-03-06</td>\n",
       "      <td>2019</td>\n",
       "      <td>3</td>\n",
       "      <td>6</td>\n",
       "    </tr>\n",
       "    <tr>\n",
       "      <th>12</th>\n",
       "      <td>pahuja_records</td>\n",
       "      <td>20230413-pahuja-records_weightChart.pdf</td>\n",
       "      <td>337.8</td>\n",
       "      <td>2019-02-20</td>\n",
       "      <td>2019</td>\n",
       "      <td>2</td>\n",
       "      <td>20</td>\n",
       "    </tr>\n",
       "    <tr>\n",
       "      <th>1</th>\n",
       "      <td>taryn_text_records</td>\n",
       "      <td>2018-09-14.pdf</td>\n",
       "      <td>322.7</td>\n",
       "      <td>2018-09-14</td>\n",
       "      <td>2018</td>\n",
       "      <td>9</td>\n",
       "      <td>14</td>\n",
       "    </tr>\n",
       "    <tr>\n",
       "      <th>2</th>\n",
       "      <td>taryn_text_records</td>\n",
       "      <td>2018-09-07.pdf</td>\n",
       "      <td>320.6</td>\n",
       "      <td>2018-09-07</td>\n",
       "      <td>2018</td>\n",
       "      <td>9</td>\n",
       "      <td>7</td>\n",
       "    </tr>\n",
       "    <tr>\n",
       "      <th>11</th>\n",
       "      <td>taryn_text_records</td>\n",
       "      <td>2018-08-30.pdf</td>\n",
       "      <td>321.3</td>\n",
       "      <td>2018-08-30</td>\n",
       "      <td>2018</td>\n",
       "      <td>8</td>\n",
       "      <td>30</td>\n",
       "    </tr>\n",
       "    <tr>\n",
       "      <th>3</th>\n",
       "      <td>taryn_text_records</td>\n",
       "      <td>2018-08-17.pdf</td>\n",
       "      <td>325.4</td>\n",
       "      <td>2018-08-17</td>\n",
       "      <td>2018</td>\n",
       "      <td>8</td>\n",
       "      <td>17</td>\n",
       "    </tr>\n",
       "    <tr>\n",
       "      <th>4</th>\n",
       "      <td>taryn_text_records</td>\n",
       "      <td>2018-08-10.pdf</td>\n",
       "      <td>318.0</td>\n",
       "      <td>2018-08-10</td>\n",
       "      <td>2018</td>\n",
       "      <td>8</td>\n",
       "      <td>10</td>\n",
       "    </tr>\n",
       "    <tr>\n",
       "      <th>5</th>\n",
       "      <td>taryn_text_records</td>\n",
       "      <td>2018-08-03.pdf</td>\n",
       "      <td>317.3</td>\n",
       "      <td>2018-08-03</td>\n",
       "      <td>2018</td>\n",
       "      <td>8</td>\n",
       "      <td>3</td>\n",
       "    </tr>\n",
       "    <tr>\n",
       "      <th>6</th>\n",
       "      <td>taryn_text_records</td>\n",
       "      <td>2018-07-27.pdf</td>\n",
       "      <td>322.0</td>\n",
       "      <td>2018-07-27</td>\n",
       "      <td>2018</td>\n",
       "      <td>7</td>\n",
       "      <td>27</td>\n",
       "    </tr>\n",
       "    <tr>\n",
       "      <th>7</th>\n",
       "      <td>taryn_text_records</td>\n",
       "      <td>2018-06-15.pdf</td>\n",
       "      <td>315.2</td>\n",
       "      <td>2018-06-15</td>\n",
       "      <td>2018</td>\n",
       "      <td>6</td>\n",
       "      <td>15</td>\n",
       "    </tr>\n",
       "    <tr>\n",
       "      <th>8</th>\n",
       "      <td>taryn_text_records</td>\n",
       "      <td>2018-06-08.pdf</td>\n",
       "      <td>317.5</td>\n",
       "      <td>2018-06-08</td>\n",
       "      <td>2018</td>\n",
       "      <td>6</td>\n",
       "      <td>8</td>\n",
       "    </tr>\n",
       "    <tr>\n",
       "      <th>9</th>\n",
       "      <td>taryn_text_records</td>\n",
       "      <td>2018-06-01.pdf</td>\n",
       "      <td>319.3</td>\n",
       "      <td>2018-06-01</td>\n",
       "      <td>2018</td>\n",
       "      <td>6</td>\n",
       "      <td>1</td>\n",
       "    </tr>\n",
       "    <tr>\n",
       "      <th>10</th>\n",
       "      <td>taryn_text_records</td>\n",
       "      <td>2018-05-25.pdf</td>\n",
       "      <td>318.0</td>\n",
       "      <td>2018-05-25</td>\n",
       "      <td>2018</td>\n",
       "      <td>5</td>\n",
       "      <td>25</td>\n",
       "    </tr>\n",
       "  </tbody>\n",
       "</table>\n",
       "</div>"
      ],
      "text/plain": [
       "              data_src                        data_src_filename  \\\n",
       "22      pahuja_records  20230413-pahuja-records_weightChart.pdf   \n",
       "21      pahuja_records  20230413-pahuja-records_weightChart.pdf   \n",
       "0   taryn_text_records                           2019-08-31.pdf   \n",
       "20      pahuja_records  20230413-pahuja-records_weightChart.pdf   \n",
       "19      pahuja_records  20230413-pahuja-records_weightChart.pdf   \n",
       "18      pahuja_records  20230413-pahuja-records_weightChart.pdf   \n",
       "17      pahuja_records  20230413-pahuja-records_weightChart.pdf   \n",
       "16      pahuja_records  20230413-pahuja-records_weightChart.pdf   \n",
       "15      pahuja_records  20230413-pahuja-records_weightChart.pdf   \n",
       "14      pahuja_records  20230413-pahuja-records_weightChart.pdf   \n",
       "13      pahuja_records  20230413-pahuja-records_weightChart.pdf   \n",
       "12      pahuja_records  20230413-pahuja-records_weightChart.pdf   \n",
       "1   taryn_text_records                           2018-09-14.pdf   \n",
       "2   taryn_text_records                           2018-09-07.pdf   \n",
       "11  taryn_text_records                           2018-08-30.pdf   \n",
       "3   taryn_text_records                           2018-08-17.pdf   \n",
       "4   taryn_text_records                           2018-08-10.pdf   \n",
       "5   taryn_text_records                           2018-08-03.pdf   \n",
       "6   taryn_text_records                           2018-07-27.pdf   \n",
       "7   taryn_text_records                           2018-06-15.pdf   \n",
       "8   taryn_text_records                           2018-06-08.pdf   \n",
       "9   taryn_text_records                           2018-06-01.pdf   \n",
       "10  taryn_text_records                           2018-05-25.pdf   \n",
       "\n",
       "    weight_in_lbs date_measured  year  month  day  \n",
       "22          232.8    2020-10-14  2020     10   14  \n",
       "21          263.9    2019-11-27  2019     11   27  \n",
       "0           296.6    2019-08-31  2019      8   31  \n",
       "20          304.9    2019-08-28  2019      8   28  \n",
       "19          322.7    2019-08-07  2019      8    7  \n",
       "18          354.0    2019-07-24  2019      7   24  \n",
       "17          345.4    2019-07-10  2019      7   10  \n",
       "16          357.7    2019-07-01  2019      7    1  \n",
       "15          355.2    2019-05-22  2019      5   22  \n",
       "14          353.6    2019-04-29  2019      4   29  \n",
       "13          343.8    2019-03-06  2019      3    6  \n",
       "12          337.8    2019-02-20  2019      2   20  \n",
       "1           322.7    2018-09-14  2018      9   14  \n",
       "2           320.6    2018-09-07  2018      9    7  \n",
       "11          321.3    2018-08-30  2018      8   30  \n",
       "3           325.4    2018-08-17  2018      8   17  \n",
       "4           318.0    2018-08-10  2018      8   10  \n",
       "5           317.3    2018-08-03  2018      8    3  \n",
       "6           322.0    2018-07-27  2018      7   27  \n",
       "7           315.2    2018-06-15  2018      6   15  \n",
       "8           317.5    2018-06-08  2018      6    8  \n",
       "9           319.3    2018-06-01  2018      6    1  \n",
       "10          318.0    2018-05-25  2018      5   25  "
      ]
     },
     "execution_count": 5,
     "metadata": {},
     "output_type": "execute_result"
    }
   ],
   "source": [
    "# extract 'year', 'month', and 'day' data into respective columns from 'date_measured' col\n",
    "\n",
    "weightdate_df[\"year\"] = weightdate_df[\"date_measured\"].dt.year\n",
    "weightdate_df[\"month\"] = weightdate_df[\"date_measured\"].dt.month\n",
    "weightdate_df[\"day\"] = weightdate_df[\"date_measured\"].dt.day\n",
    "\n",
    "weightdate_df"
   ]
  },
  {
   "cell_type": "code",
   "execution_count": 6,
   "id": "c6196aaa",
   "metadata": {},
   "outputs": [
    {
     "data": {
      "application/vnd.plotly.v1+json": {
       "config": {
        "plotlyServerURL": "https://plot.ly"
       },
       "data": [
        {
         "hovertemplate": "Date Measured=%{x}<br>Weight (lbs)=%{y}<extra></extra>",
         "legendgroup": "",
         "line": {
          "color": "#636efa",
          "dash": "solid"
         },
         "marker": {
          "symbol": "circle"
         },
         "mode": "markers+lines",
         "name": "",
         "orientation": "v",
         "showlegend": false,
         "type": "scatter",
         "x": [
          "2020-10-14T00:00:00",
          "2019-11-27T00:00:00",
          "2019-08-31T00:00:00",
          "2019-08-28T00:00:00",
          "2019-08-07T00:00:00",
          "2019-07-24T00:00:00",
          "2019-07-10T00:00:00",
          "2019-07-01T00:00:00",
          "2019-05-22T00:00:00",
          "2019-04-29T00:00:00",
          "2019-03-06T00:00:00",
          "2019-02-20T00:00:00",
          "2018-09-14T00:00:00",
          "2018-09-07T00:00:00",
          "2018-08-30T00:00:00",
          "2018-08-17T00:00:00",
          "2018-08-10T00:00:00",
          "2018-08-03T00:00:00",
          "2018-07-27T00:00:00",
          "2018-06-15T00:00:00",
          "2018-06-08T00:00:00",
          "2018-06-01T00:00:00",
          "2018-05-25T00:00:00"
         ],
         "xaxis": "x",
         "y": [
          232.8,
          263.9,
          296.6,
          304.9,
          322.7,
          354,
          345.4,
          357.7,
          355.2,
          353.6,
          343.8,
          337.8,
          322.7,
          320.6,
          321.3,
          325.4,
          318,
          317.3,
          322,
          315.2,
          317.5,
          319.3,
          318
         ],
         "yaxis": "y"
        }
       ],
       "layout": {
        "legend": {
         "tracegroupgap": 0
        },
        "template": {
         "data": {
          "bar": [
           {
            "error_x": {
             "color": "#2a3f5f"
            },
            "error_y": {
             "color": "#2a3f5f"
            },
            "marker": {
             "line": {
              "color": "#E5ECF6",
              "width": 0.5
             },
             "pattern": {
              "fillmode": "overlay",
              "size": 10,
              "solidity": 0.2
             }
            },
            "type": "bar"
           }
          ],
          "barpolar": [
           {
            "marker": {
             "line": {
              "color": "#E5ECF6",
              "width": 0.5
             },
             "pattern": {
              "fillmode": "overlay",
              "size": 10,
              "solidity": 0.2
             }
            },
            "type": "barpolar"
           }
          ],
          "carpet": [
           {
            "aaxis": {
             "endlinecolor": "#2a3f5f",
             "gridcolor": "white",
             "linecolor": "white",
             "minorgridcolor": "white",
             "startlinecolor": "#2a3f5f"
            },
            "baxis": {
             "endlinecolor": "#2a3f5f",
             "gridcolor": "white",
             "linecolor": "white",
             "minorgridcolor": "white",
             "startlinecolor": "#2a3f5f"
            },
            "type": "carpet"
           }
          ],
          "choropleth": [
           {
            "colorbar": {
             "outlinewidth": 0,
             "ticks": ""
            },
            "type": "choropleth"
           }
          ],
          "contour": [
           {
            "colorbar": {
             "outlinewidth": 0,
             "ticks": ""
            },
            "colorscale": [
             [
              0,
              "#0d0887"
             ],
             [
              0.1111111111111111,
              "#46039f"
             ],
             [
              0.2222222222222222,
              "#7201a8"
             ],
             [
              0.3333333333333333,
              "#9c179e"
             ],
             [
              0.4444444444444444,
              "#bd3786"
             ],
             [
              0.5555555555555556,
              "#d8576b"
             ],
             [
              0.6666666666666666,
              "#ed7953"
             ],
             [
              0.7777777777777778,
              "#fb9f3a"
             ],
             [
              0.8888888888888888,
              "#fdca26"
             ],
             [
              1,
              "#f0f921"
             ]
            ],
            "type": "contour"
           }
          ],
          "contourcarpet": [
           {
            "colorbar": {
             "outlinewidth": 0,
             "ticks": ""
            },
            "type": "contourcarpet"
           }
          ],
          "heatmap": [
           {
            "colorbar": {
             "outlinewidth": 0,
             "ticks": ""
            },
            "colorscale": [
             [
              0,
              "#0d0887"
             ],
             [
              0.1111111111111111,
              "#46039f"
             ],
             [
              0.2222222222222222,
              "#7201a8"
             ],
             [
              0.3333333333333333,
              "#9c179e"
             ],
             [
              0.4444444444444444,
              "#bd3786"
             ],
             [
              0.5555555555555556,
              "#d8576b"
             ],
             [
              0.6666666666666666,
              "#ed7953"
             ],
             [
              0.7777777777777778,
              "#fb9f3a"
             ],
             [
              0.8888888888888888,
              "#fdca26"
             ],
             [
              1,
              "#f0f921"
             ]
            ],
            "type": "heatmap"
           }
          ],
          "heatmapgl": [
           {
            "colorbar": {
             "outlinewidth": 0,
             "ticks": ""
            },
            "colorscale": [
             [
              0,
              "#0d0887"
             ],
             [
              0.1111111111111111,
              "#46039f"
             ],
             [
              0.2222222222222222,
              "#7201a8"
             ],
             [
              0.3333333333333333,
              "#9c179e"
             ],
             [
              0.4444444444444444,
              "#bd3786"
             ],
             [
              0.5555555555555556,
              "#d8576b"
             ],
             [
              0.6666666666666666,
              "#ed7953"
             ],
             [
              0.7777777777777778,
              "#fb9f3a"
             ],
             [
              0.8888888888888888,
              "#fdca26"
             ],
             [
              1,
              "#f0f921"
             ]
            ],
            "type": "heatmapgl"
           }
          ],
          "histogram": [
           {
            "marker": {
             "pattern": {
              "fillmode": "overlay",
              "size": 10,
              "solidity": 0.2
             }
            },
            "type": "histogram"
           }
          ],
          "histogram2d": [
           {
            "colorbar": {
             "outlinewidth": 0,
             "ticks": ""
            },
            "colorscale": [
             [
              0,
              "#0d0887"
             ],
             [
              0.1111111111111111,
              "#46039f"
             ],
             [
              0.2222222222222222,
              "#7201a8"
             ],
             [
              0.3333333333333333,
              "#9c179e"
             ],
             [
              0.4444444444444444,
              "#bd3786"
             ],
             [
              0.5555555555555556,
              "#d8576b"
             ],
             [
              0.6666666666666666,
              "#ed7953"
             ],
             [
              0.7777777777777778,
              "#fb9f3a"
             ],
             [
              0.8888888888888888,
              "#fdca26"
             ],
             [
              1,
              "#f0f921"
             ]
            ],
            "type": "histogram2d"
           }
          ],
          "histogram2dcontour": [
           {
            "colorbar": {
             "outlinewidth": 0,
             "ticks": ""
            },
            "colorscale": [
             [
              0,
              "#0d0887"
             ],
             [
              0.1111111111111111,
              "#46039f"
             ],
             [
              0.2222222222222222,
              "#7201a8"
             ],
             [
              0.3333333333333333,
              "#9c179e"
             ],
             [
              0.4444444444444444,
              "#bd3786"
             ],
             [
              0.5555555555555556,
              "#d8576b"
             ],
             [
              0.6666666666666666,
              "#ed7953"
             ],
             [
              0.7777777777777778,
              "#fb9f3a"
             ],
             [
              0.8888888888888888,
              "#fdca26"
             ],
             [
              1,
              "#f0f921"
             ]
            ],
            "type": "histogram2dcontour"
           }
          ],
          "mesh3d": [
           {
            "colorbar": {
             "outlinewidth": 0,
             "ticks": ""
            },
            "type": "mesh3d"
           }
          ],
          "parcoords": [
           {
            "line": {
             "colorbar": {
              "outlinewidth": 0,
              "ticks": ""
             }
            },
            "type": "parcoords"
           }
          ],
          "pie": [
           {
            "automargin": true,
            "type": "pie"
           }
          ],
          "scatter": [
           {
            "fillpattern": {
             "fillmode": "overlay",
             "size": 10,
             "solidity": 0.2
            },
            "type": "scatter"
           }
          ],
          "scatter3d": [
           {
            "line": {
             "colorbar": {
              "outlinewidth": 0,
              "ticks": ""
             }
            },
            "marker": {
             "colorbar": {
              "outlinewidth": 0,
              "ticks": ""
             }
            },
            "type": "scatter3d"
           }
          ],
          "scattercarpet": [
           {
            "marker": {
             "colorbar": {
              "outlinewidth": 0,
              "ticks": ""
             }
            },
            "type": "scattercarpet"
           }
          ],
          "scattergeo": [
           {
            "marker": {
             "colorbar": {
              "outlinewidth": 0,
              "ticks": ""
             }
            },
            "type": "scattergeo"
           }
          ],
          "scattergl": [
           {
            "marker": {
             "colorbar": {
              "outlinewidth": 0,
              "ticks": ""
             }
            },
            "type": "scattergl"
           }
          ],
          "scattermapbox": [
           {
            "marker": {
             "colorbar": {
              "outlinewidth": 0,
              "ticks": ""
             }
            },
            "type": "scattermapbox"
           }
          ],
          "scatterpolar": [
           {
            "marker": {
             "colorbar": {
              "outlinewidth": 0,
              "ticks": ""
             }
            },
            "type": "scatterpolar"
           }
          ],
          "scatterpolargl": [
           {
            "marker": {
             "colorbar": {
              "outlinewidth": 0,
              "ticks": ""
             }
            },
            "type": "scatterpolargl"
           }
          ],
          "scatterternary": [
           {
            "marker": {
             "colorbar": {
              "outlinewidth": 0,
              "ticks": ""
             }
            },
            "type": "scatterternary"
           }
          ],
          "surface": [
           {
            "colorbar": {
             "outlinewidth": 0,
             "ticks": ""
            },
            "colorscale": [
             [
              0,
              "#0d0887"
             ],
             [
              0.1111111111111111,
              "#46039f"
             ],
             [
              0.2222222222222222,
              "#7201a8"
             ],
             [
              0.3333333333333333,
              "#9c179e"
             ],
             [
              0.4444444444444444,
              "#bd3786"
             ],
             [
              0.5555555555555556,
              "#d8576b"
             ],
             [
              0.6666666666666666,
              "#ed7953"
             ],
             [
              0.7777777777777778,
              "#fb9f3a"
             ],
             [
              0.8888888888888888,
              "#fdca26"
             ],
             [
              1,
              "#f0f921"
             ]
            ],
            "type": "surface"
           }
          ],
          "table": [
           {
            "cells": {
             "fill": {
              "color": "#EBF0F8"
             },
             "line": {
              "color": "white"
             }
            },
            "header": {
             "fill": {
              "color": "#C8D4E3"
             },
             "line": {
              "color": "white"
             }
            },
            "type": "table"
           }
          ]
         },
         "layout": {
          "annotationdefaults": {
           "arrowcolor": "#2a3f5f",
           "arrowhead": 0,
           "arrowwidth": 1
          },
          "autotypenumbers": "strict",
          "coloraxis": {
           "colorbar": {
            "outlinewidth": 0,
            "ticks": ""
           }
          },
          "colorscale": {
           "diverging": [
            [
             0,
             "#8e0152"
            ],
            [
             0.1,
             "#c51b7d"
            ],
            [
             0.2,
             "#de77ae"
            ],
            [
             0.3,
             "#f1b6da"
            ],
            [
             0.4,
             "#fde0ef"
            ],
            [
             0.5,
             "#f7f7f7"
            ],
            [
             0.6,
             "#e6f5d0"
            ],
            [
             0.7,
             "#b8e186"
            ],
            [
             0.8,
             "#7fbc41"
            ],
            [
             0.9,
             "#4d9221"
            ],
            [
             1,
             "#276419"
            ]
           ],
           "sequential": [
            [
             0,
             "#0d0887"
            ],
            [
             0.1111111111111111,
             "#46039f"
            ],
            [
             0.2222222222222222,
             "#7201a8"
            ],
            [
             0.3333333333333333,
             "#9c179e"
            ],
            [
             0.4444444444444444,
             "#bd3786"
            ],
            [
             0.5555555555555556,
             "#d8576b"
            ],
            [
             0.6666666666666666,
             "#ed7953"
            ],
            [
             0.7777777777777778,
             "#fb9f3a"
            ],
            [
             0.8888888888888888,
             "#fdca26"
            ],
            [
             1,
             "#f0f921"
            ]
           ],
           "sequentialminus": [
            [
             0,
             "#0d0887"
            ],
            [
             0.1111111111111111,
             "#46039f"
            ],
            [
             0.2222222222222222,
             "#7201a8"
            ],
            [
             0.3333333333333333,
             "#9c179e"
            ],
            [
             0.4444444444444444,
             "#bd3786"
            ],
            [
             0.5555555555555556,
             "#d8576b"
            ],
            [
             0.6666666666666666,
             "#ed7953"
            ],
            [
             0.7777777777777778,
             "#fb9f3a"
            ],
            [
             0.8888888888888888,
             "#fdca26"
            ],
            [
             1,
             "#f0f921"
            ]
           ]
          },
          "colorway": [
           "#636efa",
           "#EF553B",
           "#00cc96",
           "#ab63fa",
           "#FFA15A",
           "#19d3f3",
           "#FF6692",
           "#B6E880",
           "#FF97FF",
           "#FECB52"
          ],
          "font": {
           "color": "#2a3f5f"
          },
          "geo": {
           "bgcolor": "white",
           "lakecolor": "white",
           "landcolor": "#E5ECF6",
           "showlakes": true,
           "showland": true,
           "subunitcolor": "white"
          },
          "hoverlabel": {
           "align": "left"
          },
          "hovermode": "closest",
          "mapbox": {
           "style": "light"
          },
          "paper_bgcolor": "white",
          "plot_bgcolor": "#E5ECF6",
          "polar": {
           "angularaxis": {
            "gridcolor": "white",
            "linecolor": "white",
            "ticks": ""
           },
           "bgcolor": "#E5ECF6",
           "radialaxis": {
            "gridcolor": "white",
            "linecolor": "white",
            "ticks": ""
           }
          },
          "scene": {
           "xaxis": {
            "backgroundcolor": "#E5ECF6",
            "gridcolor": "white",
            "gridwidth": 2,
            "linecolor": "white",
            "showbackground": true,
            "ticks": "",
            "zerolinecolor": "white"
           },
           "yaxis": {
            "backgroundcolor": "#E5ECF6",
            "gridcolor": "white",
            "gridwidth": 2,
            "linecolor": "white",
            "showbackground": true,
            "ticks": "",
            "zerolinecolor": "white"
           },
           "zaxis": {
            "backgroundcolor": "#E5ECF6",
            "gridcolor": "white",
            "gridwidth": 2,
            "linecolor": "white",
            "showbackground": true,
            "ticks": "",
            "zerolinecolor": "white"
           }
          },
          "shapedefaults": {
           "line": {
            "color": "#2a3f5f"
           }
          },
          "ternary": {
           "aaxis": {
            "gridcolor": "white",
            "linecolor": "white",
            "ticks": ""
           },
           "baxis": {
            "gridcolor": "white",
            "linecolor": "white",
            "ticks": ""
           },
           "bgcolor": "#E5ECF6",
           "caxis": {
            "gridcolor": "white",
            "linecolor": "white",
            "ticks": ""
           }
          },
          "title": {
           "x": 0.05
          },
          "xaxis": {
           "automargin": true,
           "gridcolor": "white",
           "linecolor": "white",
           "ticks": "",
           "title": {
            "standoff": 15
           },
           "zerolinecolor": "white",
           "zerolinewidth": 2
          },
          "yaxis": {
           "automargin": true,
           "gridcolor": "white",
           "linecolor": "white",
           "ticks": "",
           "title": {
            "standoff": 15
           },
           "zerolinecolor": "white",
           "zerolinewidth": 2
          }
         }
        },
        "title": {
         "text": "Tyler M. Neher - Measured Weight Over Time"
        },
        "xaxis": {
         "anchor": "y",
         "domain": [
          0,
          1
         ],
         "title": {
          "text": "Date Measured"
         }
        },
        "yaxis": {
         "anchor": "x",
         "domain": [
          0,
          1
         ],
         "title": {
          "text": "Weight (lbs)"
         }
        }
       }
      }
     },
     "metadata": {},
     "output_type": "display_data"
    }
   ],
   "source": [
    "# Generate plotly.express linechart of weights over time\n",
    "\n",
    "names = {\"Date Measured\": \"date_measured\"}\n",
    "\n",
    "fig = px.line(\n",
    "    weightdate_df,\n",
    "    x=weightdate_df[\"date_measured\"],\n",
    "    y=weightdate_df[\"weight_in_lbs\"],\n",
    "    title=\"Tyler M. Neher - Measured Weight Over Time\",\n",
    "    markers=True,\n",
    "    render_mode=\"svg\",\n",
    "    labels={\"date_measured\": \"Date Measured\", \"weight_in_lbs\": \"Weight (lbs)\"},\n",
    ")\n",
    "fig.show()"
   ]
  },
  {
   "cell_type": "code",
   "execution_count": 7,
   "id": "f6cc5716",
   "metadata": {},
   "outputs": [],
   "source": [
    "fig.write_html(\"index.html\")"
   ]
  }
 ],
 "metadata": {
  "kernelspec": {
   "display_name": "Python 3 (ipykernel)",
   "language": "python",
   "name": "python3"
  },
  "language_info": {
   "codemirror_mode": {
    "name": "ipython",
    "version": 3
   },
   "file_extension": ".py",
   "mimetype": "text/x-python",
   "name": "python",
   "nbconvert_exporter": "python",
   "pygments_lexer": "ipython3",
   "version": "3.11.2"
  }
 },
 "nbformat": 4,
 "nbformat_minor": 5
}
